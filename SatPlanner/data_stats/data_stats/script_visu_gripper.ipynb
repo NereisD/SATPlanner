{
 "cells": [
  {
   "cell_type": "markdown",
   "metadata": {},
   "source": [
    "Script de génération des graphiques :\n",
    "\n",
    "1 - imports et lecture des données"
   ]
  },
  {
   "cell_type": "code",
   "execution_count": 119,
   "metadata": {},
   "outputs": [],
   "source": [
    "import matplotlib.pyplot as plt\n",
    "\n",
    "ASPg  = open('data/ASPGripper.txt','r')\n",
    "BAPTg  = open('data/BAPTGripper.txt','r')\n",
    "    \n",
    "ASPg_t = ASPg.readlines()\n",
    "BAPTg_t = BAPTg.readlines()"
   ]
  },
  {
   "cell_type": "markdown",
   "metadata": {},
   "source": [
    "2 - récupération des données\n",
    "    (itération sur les fichiers textes et création des vecteurs de données)"
   ]
  },
  {
   "cell_type": "code",
   "execution_count": 120,
   "metadata": {},
   "outputs": [
    {
     "name": "stdout",
     "output_type": "stream",
     "text": [
      "[' 0,07', ' 0,13', ' 0,40', ' 1,44', ' 8,50', '72,67']\n",
      "[' 0,05', ' 0,05']\n",
      "['1\\n', '2\\n', '3\\n', '4\\n', '5\\n', '6\\n']\n",
      "['1\\n', '2\\n']\n"
     ]
    }
   ],
   "source": [
    "values_ASP = []\n",
    "values_BAPT = []\n",
    "pb_ASP = []\n",
    "pb_BAPT = []\n",
    "\n",
    "\n",
    "for i in range(len(ASPg_t)) : #on itere sur les lignes dans le texte\n",
    "    if (ASPg_t[i][1] != '\\n') : #si la ligne a plus de 0 caractère\n",
    "        for j in range(len(ASPg_t[i])) : #on itere sur les caractère dans la ligne\n",
    "            if (ASPg_t[i][j] == 's') : #si le caractère = s\n",
    "                values_ASP.append(ASPg_t[i][j-6:j-1])\n",
    "                pb_ASP.append(ASPg_t[i-1][0] + ASPg_t[i-1][1])  \n",
    "                break       \n",
    "\n",
    "            \n",
    "for i in range(len(BAPTg_t)-1) : #on itere sur les lignes dans le texte \n",
    "    if (BAPTg_t[i][1] != '\\n') : \n",
    "        for j in range(len(BAPTg_t[i])) : #on itere sur les caractère dans la ligne\n",
    "            if (BAPTg_t[i][j] == 's') : #si le caractère = s\n",
    "                values_BAPT.append(BAPTg_t[i][j-6:j-1])\n",
    "                pb_BAPT.append(BAPTg_t[i-1][0] + BAPTg_t[i-1][1])\n",
    "                break \n",
    "        \n",
    "print(values_ASP)\n",
    "print(values_BAPT)\n",
    "print(pb_ASP)\n",
    "print(pb_BAPT)"
   ]
  },
  {
   "cell_type": "markdown",
   "metadata": {},
   "source": [
    "3 - Traitement des données pour intergration gaphique\n",
    "    (nettoyage et typage des données)"
   ]
  },
  {
   "cell_type": "code",
   "execution_count": 121,
   "metadata": {},
   "outputs": [
    {
     "name": "stdout",
     "output_type": "stream",
     "text": [
      "[0.07, 0.13, 0.4, 1.44, 8.5, 72.67]\n",
      "[0.05, 0.05]\n",
      "[1, 2, 3, 4, 5, 6]\n",
      "[1, 2]\n"
     ]
    }
   ],
   "source": [
    "for i in range(len(values_ASP)) :\n",
    "    if isinstance(values_ASP[i], float) : break\n",
    "    if isinstance(values_ASP[i], str) :\n",
    "        values_ASP[i] = values_ASP[i].replace(' ', \"\")\n",
    "        values_ASP[i] = values_ASP[i].replace(',', '.')\n",
    "        values_ASP[i] = float(values_ASP[i])\n",
    "    else : values_ASP[i] = 0\n",
    "\n",
    "for i in range(len(values_BAPT)) :\n",
    "    if isinstance(values_BAPT[i], float) : break\n",
    "    if isinstance(values_BAPT[i], str) :\n",
    "        values_BAPT[i] = values_BAPT[i].replace(' ', \"\")\n",
    "        values_BAPT[i] = values_BAPT[i].replace(',', '.')\n",
    "        values_BAPT[i] = float(values_BAPT[i])\n",
    "    else : values_BAPT[i] = 0 \n",
    "    \n",
    "for i in range(len(pb_ASP)) :\n",
    "    if isinstance(pb_ASP[i], int) : break\n",
    "    if isinstance(pb_ASP[i], str) :\n",
    "        pb_ASP[i] = pb_ASP[i].replace('\\n', \"\")\n",
    "        pb_ASP[i] = pb_ASP[i].replace(',', '.')\n",
    "        pb_ASP[i] = int(pb_ASP[i])    \n",
    "    else : pb_ASP[i] = 0  \n",
    "    \n",
    "for i in range(len(pb_BAPT)) :\n",
    "    if (isinstance(pb_BAPT[i] , int)) : break\n",
    "    if isinstance(pb_BAPT[i] , str) :\n",
    "        pb_BAPT[i] = pb_BAPT[i].replace('\\n', \"\")\n",
    "        pb_BAPT[i] = pb_BAPT[i].replace(',', '.')\n",
    "        pb_BAPT[i] = int(pb_BAPT[i])\n",
    "    else : pb_BAPT[i] = 0\n",
    "        \n",
    "print(values_ASP)\n",
    "print(values_BAPT)\n",
    "print(pb_ASP)\n",
    "print(pb_BAPT)"
   ]
  },
  {
   "cell_type": "markdown",
   "metadata": {},
   "source": [
    "4 - Génération du graphe"
   ]
  },
  {
   "cell_type": "code",
   "execution_count": 122,
   "metadata": {},
   "outputs": [
    {
     "data": {
      "image/png": "[encoded data removed]",
      "text/plain": [
       "<Figure size 640x480 with 1 Axes>"
      ]
     },
     "metadata": {},
     "output_type": "display_data"
    }
   ],
   "source": [
    "max_value = max(max(values_ASP),max(values_BAPT))\n",
    "max_pb = max(len(pb_ASP),len(pb_BAPT))\n",
    "\n",
    "plt.xlim(1,max_pb) \n",
    "plt.xlabel(\"Problem number\")\n",
    "\n",
    "#plt.ylim(0,float(max_value))\n",
    "plt.yscale(\"linear\")\n",
    "plt.ylabel(\"Time\")\n",
    "plt.title(\"Time for Gripper problems\")\n",
    "\n",
    "plt.plot(pb_ASP,values_ASP, label = \"ASP\")\n",
    "plt.plot(pb_BAPT,values_BAPT, label = \"BAPT\")\n",
    "\n",
    "\n",
    "plt.savefig(\"graph/timeGripper.png\")\n",
    "plt.legend()\n",
    "plt.show()\n"
   ]
  }
 ],
 "metadata": {
  "kernelspec": {
   "display_name": "Python 3.9.12 ('base')",
   "language": "python",
   "name": "python3"
  },
  "language_info": {
   "codemirror_mode": {
    "name": "ipython",
    "version": 3
   },
   "file_extension": ".py",
   "mimetype": "text/x-python",
   "name": "python",
   "nbconvert_exporter": "python",
   "pygments_lexer": "ipython3",
   "version": "3.9.12"
  },
  "orig_nbformat": 4,
  "vscode": {
   "interpreter": {
    "hash": "90e6d5a07023f3df071e9ae1abfcae48152d6d43f499796a38d2c886cfac3c01"
   }
  }
 },
 "nbformat": 4,
 "nbformat_minor": 2
}
